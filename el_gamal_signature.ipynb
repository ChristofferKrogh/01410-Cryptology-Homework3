{
 "cells": [
  {
   "cell_type": "code",
   "execution_count": 8,
   "metadata": {},
   "outputs": [],
   "source": [
    "import ex2"
   ]
  },
  {
   "cell_type": "markdown",
   "metadata": {},
   "source": [
    "# El-Gamal digital signature system\n",
    "\n",
    "We know that *n = 2051152801041163*, and *HF(m) = 8^m * mod *n*  \n",
    "We let *p = 2189284635404723*, which is a prime, and *(p - 1) / 2* is also a prime.\n",
    "\n",
    "We can determine the public and private keys from this information."
   ]
  },
  {
   "cell_type": "code",
   "execution_count": 9,
   "metadata": {},
   "outputs": [
    {
     "output_type": "stream",
     "name": "stdout",
     "text": "alpha: 2\na: 2161993021873880\nbeta:209207007062512\n"
    }
   ],
   "source": [
    "p = 2189284635404723\n",
    "el_gamal = ex2.El_Gamal(p)\n",
    "print(f\" alpha: {el_gamal.alpha}\\na: {el_gamal.a}\\nbeta:{el_gamal.beta}\")"
   ]
  },
  {
   "cell_type": "markdown",
   "metadata": {},
   "source": [
    "We let *m* be our study ID, and *k* is chosen (at random) to be *k = 1234567*.  \n",
    "We compute *x = HF(m)*. The signature of *m* is then  \n",
    "*gamma = alpha ^k* mod *p*  \n",
    "*delta = (x - a * gamma) * k_inverse* mod *(p - 1)*  \n",
    "where *k_inverse* is the multiplicative inverse of *k* mod *p - 1*."
   ]
  },
  {
   "cell_type": "code",
   "execution_count": 10,
   "metadata": {},
   "outputs": [
    {
     "output_type": "stream",
     "name": "stdout",
     "text": "Signature: (816370854501913, 1114053648077262)\n"
    }
   ],
   "source": [
    "m = 163959\n",
    "gamma, delta = el_gamal.signature(m)\n",
    "print(f\" Signature: {(gamma, delta)}\")"
   ]
  },
  {
   "cell_type": "markdown",
   "metadata": {},
   "source": [
    "Anyone can verify that this is the correct signature of *m* using only our public key, *m, gamma* and *delta*.  \n",
    "First, we compute *x = HF(m)* again. Afterwards, we simply determine whether it holds that \n",
    "\n",
    "*beta^gamma \\* gamma^delta* mod *p = alpha^x* mod *p* "
   ]
  },
  {
   "cell_type": "code",
   "execution_count": 11,
   "metadata": {},
   "outputs": [
    {
     "output_type": "stream",
     "name": "stdout",
     "text": "The signature is verified: True\n"
    }
   ],
   "source": [
    "verification = el_gamal.verify(gamma, delta, m)\n",
    "print(f\"The signature is verified: {verification}\")"
   ]
  }
 ],
 "metadata": {
  "language_info": {
   "codemirror_mode": {
    "name": "ipython",
    "version": 3
   },
   "file_extension": ".py",
   "mimetype": "text/x-python",
   "name": "python",
   "nbconvert_exporter": "python",
   "pygments_lexer": "ipython3",
   "version": "3.7.3-final"
  },
  "orig_nbformat": 2,
  "kernelspec": {
   "name": "python3",
   "display_name": "Python 3"
  }
 },
 "nbformat": 4,
 "nbformat_minor": 2
}